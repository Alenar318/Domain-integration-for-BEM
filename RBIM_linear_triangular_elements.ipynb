{
 "cells": [
  {
   "cell_type": "markdown",
   "metadata": {},
   "source": [
    "IMPORTING AND CALLING FUNCTIONS"
   ]
  },
  {
   "cell_type": "code",
   "execution_count": 14,
   "metadata": {},
   "outputs": [],
   "source": [
    "%run mis_funciones.py"
   ]
  },
  {
   "cell_type": "markdown",
   "metadata": {},
   "source": [
    "READING QUADRATURE COORDINATES FROM AN EXTERNAL FILE"
   ]
  },
  {
   "cell_type": "code",
   "execution_count": null,
   "metadata": {},
   "outputs": [],
   "source": [
    "import numpy as np\n",
    "# Let's read the provided file and load the coordinates into a NumPy array\n",
    "\n",
    "#file_path_Qpoints = \"coordenadas_uniformes.txt\"\n",
    "\n",
    "file_path_Qpoints = \"coordenadas_cuasi_uniformes.txt\"\n",
    "\n",
    "# Load the coordinates from the file\n",
    "Qpoints = np.loadtxt(file_path_Qpoints, delimiter=' ')\n",
    "\n",
    "NN2 = Qpoints.shape[0]  \n",
    "\n",
    "#print(f\" Coordenadas de los puntos: {Nodos2}\")\n"
   ]
  },
  {
   "cell_type": "markdown",
   "metadata": {},
   "source": [
    "READING AND MODIFYING THE BOUNDARY MESH FILE"
   ]
  },
  {
   "cell_type": "code",
   "execution_count": 16,
   "metadata": {},
   "outputs": [
    {
     "data": {
      "text/plain": [
       "'Capsula_malla3.txt'"
      ]
     },
     "execution_count": 16,
     "metadata": {},
     "output_type": "execute_result"
    }
   ],
   "source": [
    "# Define the file paths\n",
    "input_file_path =  'Capsula_malla3.mdpa'\n",
    "output_file_path = 'Capsula_malla3.txt'\n",
    "\n",
    "#input_file_path =  r'C:\\Users\\INFO 1\\ARCHIVOS BEM-FEM\\PROGRAMAS BEM\\Programas_Julio_2020\\Cube.mdpa'\n",
    "#output_file_path = r'C:\\Users\\INFO 1\\ARCHIVOS BEM-FEM\\PROGRAMAS BEM\\Programas_Julio_2020\\Cube.txt'\n",
    "\n",
    "# Read the input file\n",
    "with open(input_file_path, 'r') as file:\n",
    "    lines = file.readlines()\n",
    "\n",
    "# Initialize variables to track sections\n",
    "inside_elements = False\n",
    "inside_elemental_data = False\n",
    "modified_lines = []\n",
    "\n",
    "# Process the input file\n",
    "element_counter = 1\n",
    "elemental_data_counter = 1\n",
    "\n",
    "for line in lines:\n",
    "    # Handle \"Begin Elements Triangle2D3\"\n",
    "    if \"Begin Elements Triangle2D3\" in line:\n",
    "        inside_elements = True\n",
    "        modified_lines.append(line)  # Keep the section header\n",
    "        continue\n",
    "    elif \"End Elements\" in line and inside_elements:\n",
    "        inside_elements = False\n",
    "        modified_lines.append(line)  # Keep the section footer\n",
    "        continue\n",
    "\n",
    "    # Handle \"Begin ElementalData cell_tags\"\n",
    "    if \"Begin ElementalData cell_tags\" in line:\n",
    "        inside_elemental_data = True\n",
    "        modified_lines.append(line)  # Keep the section header\n",
    "        continue\n",
    "    elif \"End ElementalData cell_tags\" in line and inside_elemental_data:\n",
    "        inside_elemental_data = False\n",
    "        modified_lines.append(line)  # Keep the section footer\n",
    "        continue\n",
    "\n",
    "    # Process lines inside \"Begin Elements Triangle2D3\"\n",
    "    if inside_elements:\n",
    "        parts = line.split()\n",
    "        if len(parts) > 0:\n",
    "            parts[0] = str(element_counter)  # Re-enumerate the first column\n",
    "            element_counter += 1\n",
    "        modified_lines.append(\" \".join(parts) + \"\\n\")\n",
    "        continue\n",
    "\n",
    "    # Process lines inside \"Begin ElementalData cell_tags\"\n",
    "    if inside_elemental_data:\n",
    "        parts = line.split()\n",
    "        if len(parts) > 1 and parts[1] != \"0\":  # Remove rows with '0' in the second column\n",
    "            parts[0] = str(elemental_data_counter)  # Re-enumerate the first column\n",
    "            elemental_data_counter += 1\n",
    "            modified_lines.append(\" \".join(parts) + \"\\n\")\n",
    "        continue\n",
    "\n",
    "    # For all other lines, keep them unchanged\n",
    "    modified_lines.append(line)\n",
    "\n",
    "# Write the modified lines to the output file\n",
    "with open(output_file_path, 'w') as file:\n",
    "    file.writelines(modified_lines)\n",
    "\n",
    "output_file_path  # Return the path to the modified file\n"
   ]
  },
  {
   "cell_type": "markdown",
   "metadata": {},
   "source": [
    "EXTRACTING VERTEX COORDINATES AND CONNECTIVITY"
   ]
  },
  {
   "cell_type": "code",
   "execution_count": 17,
   "metadata": {},
   "outputs": [
    {
     "name": "stdout",
     "output_type": "stream",
     "text": [
      "[[ 1.00000000e+00 -2.00000000e+00 -2.44929360e-16  1.00000000e+00]\n",
      " [ 2.00000000e+00 -1.22464680e-16 -1.49975978e-32  3.00000000e+00]\n",
      " [ 3.00000000e+00 -2.00000000e+00 -2.44929360e-16 -1.00000000e+00]\n",
      " ...\n",
      " [ 3.35300000e+03 -1.56455786e+00  1.24585662e+00 -1.56138868e-01]\n",
      " [ 3.35400000e+03 -1.93147223e+00 -5.19052039e-01  1.38124996e-01]\n",
      " [ 3.35500000e+03 -1.93005657e+00 -5.24291542e-01  2.65150012e-01]]\n",
      "[[   1  196  198  197]\n",
      " [   2  196  197   82]\n",
      " [   3  199  200   65]\n",
      " ...\n",
      " [6704 2633 2643 3322]\n",
      " [6705 2396 2412 2409]\n",
      " [6706 2881 2405 2682]]\n"
     ]
    }
   ],
   "source": [
    "import numpy as np\n",
    "\n",
    "# Initialize empty arrays\n",
    "vertices = []\n",
    "triangles= []\n",
    "\n",
    "# Read a file\n",
    "with open(output_file_path, 'r') as file:\n",
    "    lines = file.readlines()\n",
    "\n",
    "# Process sections\n",
    "inside_nodes = False\n",
    "inside_elements = False\n",
    "\n",
    "for line in lines:\n",
    "    # Detect sections\n",
    "    if \"Begin Nodes\" in line:\n",
    "        inside_nodes = True\n",
    "        continue\n",
    "    elif \"End Nodes\" in line:\n",
    "        inside_nodes = False\n",
    "        continue\n",
    "\n",
    "    if \"Begin Elements\" in line:\n",
    "        inside_elements = True\n",
    "        continue\n",
    "    elif \"End Elements\" in line:\n",
    "        inside_elements = False\n",
    "        continue\n",
    "\n",
    "    # Store vertex coordinates\n",
    "    if inside_nodes:\n",
    "        parts = line.split()\n",
    "        if len(parts) == 4:\n",
    "            vertices.append([int(parts[0]), float(parts[1]), float(parts[2]), float(parts[3])])\n",
    "\n",
    "    # Store elements, omitting the second column\n",
    "    if inside_elements:\n",
    "        parts = line.split()\n",
    "        if len(parts) > 4:\n",
    "            triangles.append([int(parts[0]), int(parts[2]), int(parts[3]), int(parts[4])])\n",
    "\n",
    "# Convert the lists to NumPy arrays\n",
    "vertices = np.array(vertices)\n",
    "triangles=np.array(triangles)\n",
    "\n",
    "# Restore NumPy print options to their default status\n",
    "np.set_printoptions(edgeitems=3, infstr='inf', linewidth=75, nanstr='nan', precision=8, suppress=False, threshold=1000, formatter=None)\n",
    "\n",
    "\n",
    "print(vertices)\n",
    "print(triangles)\n"
   ]
  },
  {
   "cell_type": "markdown",
   "metadata": {},
   "source": [
    "SAVING VERTEX COORDINATES AND CONNECTIVTY"
   ]
  },
  {
   "cell_type": "code",
   "execution_count": 18,
   "metadata": {},
   "outputs": [
    {
     "name": "stdout",
     "output_type": "stream",
     "text": [
      "The coordinates of the vertices were saved in: Coord_vertices.txt\n",
      "The connectivity of the vertices were saved in: Element_connectivity.txt\n"
     ]
    }
   ],
   "source": [
    "\n",
    "# File path where the vertices' coordinates will be saved\n",
    "output_file_path_vertices = 'Coord_vertices.txt'\n",
    "np.savetxt(output_file_path_vertices, vertices, fmt='%f', delimiter=' ')\n",
    "print(f\"The coordinates of the vertices were saved in: {output_file_path_vertices}\")\n",
    "\n",
    "\n",
    "# File path where the vertices' connectivity will be saved\n",
    "output_file_path_elements = 'Element_connectivity.txt'\n",
    "# Add the element index as the first column\n",
    "num_element = triangles.shape[0]\n",
    "indices = np.arange(1, num_element + 1).reshape(-1, 1)  \n",
    "connectivity = np.hstack((indices, triangles))\n",
    "\n",
    "np.savetxt(output_file_path_elements, connectivity, fmt='%d', delimiter=' ')\n",
    "print(f\"The connectivity of the vertices were saved in: {output_file_path_elements}\")\n"
   ]
  },
  {
   "cell_type": "markdown",
   "metadata": {},
   "source": [
    "INTEGRAL OF (f(x,y,z) = 3x² + y + z) COMPUTED BY APPLYING GREEN'S THEOREM AND ANALYTIC INTEGRATION OVER TRIANGLES (USED AS REFERENCE) "
   ]
  },
  {
   "cell_type": "code",
   "execution_count": 19,
   "metadata": {},
   "outputs": [
    {
     "data": {
      "text/plain": [
       "6706"
      ]
     },
     "metadata": {},
     "output_type": "display_data"
    },
    {
     "name": "stdout",
     "output_type": "stream",
     "text": [
      "The reference integral value is: 155.34041818217437\n"
     ]
    }
   ],
   "source": [
    "\n",
    "vertices=vertices[:,1:4];\n",
    "triangles=triangles[:,1:4];\n",
    "\n",
    "min_index=np.min(triangles); #  \n",
    "\n",
    "\n",
    "import numpy as np\n",
    "np.set_printoptions(threshold=np.inf, linewidth=200)\n",
    "\n",
    "# The integral is calcuated as the sum of analytic function evaluations values for all triangles\n",
    "\n",
    "integral = 0;\n",
    "u=triangles.shape[0];\n",
    "display(u);\n",
    "nx=np.zeros((u,3));\n",
    "cont=0;\n",
    "for tri in triangles:\n",
    "    #display(tri)\n",
    "    v1=vertices[tri[0]-min_index];\n",
    "    v2=vertices[tri[1]-min_index];\n",
    "    v3=vertices[tri[2]-min_index];\n",
    "    #display('triangles')\n",
    "    #display(v1)\n",
    "    #display(v2)\n",
    "    #display(v3)\n",
    "\n",
    "    # Extracting vertex coordinates\n",
    "    a1, b1, c1 = v1\n",
    "    a2, b2, c2 = v2\n",
    "    a3, b3, c3 = v3\n",
    "    # Computing the unitary normal vector\n",
    "    v12=v2-v1;\n",
    "    v13=v3-v1;\n",
    "    Vn=np.cross(v12,v13);\n",
    "    Vn=Vn/np.linalg.norm(Vn);\n",
    "    nx[cont]=Vn;\n",
    "\n",
    "    val=funcion_analitica(a1, a2, a3, b1, b2, b3, c1, c2, c3);\n",
    "    #display(valor)\n",
    "\n",
    "    integral =integral +val ;\n",
    "\n",
    "    cont=cont+1;\n",
    "#display(nx)\n",
    "print(f\"The reference integral value is: {integral}\")\n",
    "np.set_printoptions(edgeitems=3, infstr='inf', linewidth=75, nanstr='nan', precision=8, suppress=False, threshold=1000, formatter=None)\n",
    "\n"
   ]
  },
  {
   "cell_type": "markdown",
   "metadata": {},
   "source": [
    "BUILDING THE AUGMENTED RADIAL BASIS FUNCTION  MATRIX"
   ]
  },
  {
   "cell_type": "code",
   "execution_count": 20,
   "metadata": {},
   "outputs": [
    {
     "name": "stdout",
     "output_type": "stream",
     "text": [
      "Block size: 40, NN2: 798, num_blocks: 20\n"
     ]
    }
   ],
   "source": [
    "import numpy as np\n",
    "from joblib import Parallel, delayed\n",
    "import multiprocessing\n",
    "\n",
    "# Load the coordinates from the file\n",
    "# coordinates_file_path = \"coordenadas_cuasi_uniformes.txt\"\n",
    "# coordinates= np.loadtxt(coordinates_file_path, delimiter=' ')\n",
    "\n",
    "# NN2 = coordinates.shape[0]\n",
    "# Qpoints = np.array(coordinates)\n",
    "\n",
    "# Define the function to compute a block of the upper triangular matrix\n",
    "def compute_upper_triangle_block(start_row, end_row, NN2, Qpoints):\n",
    "    block = np.zeros((end_row - start_row, NN2))\n",
    "    for ii in range(start_row, end_row):\n",
    "        for jj in range(ii, NN2):\n",
    "            Rij = np.linalg.norm(Qpoints[ii, :] - Qpoints[jj, :])\n",
    "            value = (Rij**4) * np.log(Rij + np.finfo(float).eps)  # np.finfo(float).eps is a small constant\n",
    "            block[ii - start_row, jj] = value\n",
    "    return start_row, end_row, block\n",
    "\n",
    "# Number of row blocks\n",
    "num_blocks = multiprocessing.cpu_count()\n",
    "\n",
    "# Calculate the block size\n",
    "block_size = round((NN2 + num_blocks - 1) / num_blocks)-1;  # Ceiling division\n",
    "\n",
    "print(f\"Block size: {block_size}, NN2: {NN2}, num_blocks: {num_blocks}\")\n",
    "\n",
    "# Use joblib to compute blocks in parallel\n",
    "C = np.zeros((NN2, NN2))\n",
    "results = Parallel(n_jobs=num_blocks)(\n",
    "    delayed(compute_upper_triangle_block)(i * block_size, min((i + 1) * block_size, NN2), NN2, Qpoints) for i in range(num_blocks)\n",
    ")\n",
    "\n",
    "# Assemble the matrix from the computed blocks\n",
    "for start_row, end_row, block in results:\n",
    "    C[start_row:end_row, start_row:NN2] = block[:, start_row:NN2]\n",
    "\n",
    "# Fill the lower triangular part using symmetry\n",
    "for i in range(NN2):\n",
    "    for j in range(i):\n",
    "        C[i, j] = C[j, i]\n",
    "\n",
    "\n",
    "B = np.hstack([np.ones((NN2, 1)), Qpoints]) #\n",
    "ZC = np.zeros((B.shape[1], B.shape[1]))  # \n",
    "\n",
    "AU = np.block([[C, B], [B.T, ZC]])  # \n",
    "\n",
    "#print(\"Matrix C:\")\n",
    "#print(C)\n",
    "#print(\"\\nMatrix AU:\")\n",
    "#print(AU)\n",
    "\n",
    "\n",
    "\n"
   ]
  },
  {
   "cell_type": "markdown",
   "metadata": {},
   "source": [
    "COMPUTING THE RBIM QUADRATURE INTEGRATION WEIGTHS"
   ]
  },
  {
   "cell_type": "code",
   "execution_count": 21,
   "metadata": {},
   "outputs": [],
   "source": [
    "import numpy as np\n",
    "from joblib import Parallel, delayed\n",
    "import multiprocessing\n",
    "\n",
    "\n",
    "# Computing the vector of Integrals \n",
    "NN = NN2\n",
    "I_rbf = np.zeros((NN, 1))\n",
    "xw = TriGaussPoints(6)\n",
    "NP = xw.shape[0]\n",
    "\n",
    "# Parallelizing the computation using joblib\n",
    "num_cores = multiprocessing.cpu_count()\n",
    "results = Parallel(n_jobs=num_cores)(delayed(calculate_I_rbf_for_node)(i, Qpoints, triangles, vertices, min_index, xw, NP) for i in range(NN))\n",
    "\n",
    "# Assigning the results to the vector I_rbf\n",
    "for i, value in results:\n",
    "    I_rbf[i] = value\n",
    "\n",
    "I_poly = np.zeros((4, 1))\n",
    "\n",
    "for tri in triangles:\n",
    "    v1 = vertices[tri[0] - min_index]\n",
    "    v2 = vertices[tri[1] - min_index]\n",
    "    v3 = vertices[tri[2] - min_index]\n",
    "    a1, b1, c1 = v1\n",
    "    a2, b2, c2 = v2\n",
    "    a3, b3, c3 = v3\n",
    "    J=(b1 * c2 - b1 * c3 - b2 * c1 + b2 * c3 + b3 * c1 - b3 * c2);\n",
    "    Int1 = (a1 + a2 + a3) * J / 6\n",
    "    Int2 = (a1**2 + a1*a2 + a1*a3 + a2**2 + a2*a3 + a3**2) * J / 24\n",
    "    Int3 = J* (2 * a1 * b1 + a1 * b2 + a1 * b3 + a2 * b1 + 2 * a2 * b2 + a2 * b3 + a3 * b1 + a3 * b2 + 2 * a3 * b3) / 24\n",
    "    Int4 = J * (2 * a1 * c1 + a1 * c2 + a1 * c3 + a2 * c1 + 2 * a2 * c2 + a2 * c3 + a3 * c1 + a3 * c2 + 2 * a3 * c3) / 24\n",
    "    I_poly += np.array([[Int1], [Int2], [Int3], [Int4]])\n",
    "\n",
    "#print(f\"Integral rbf: {I_rbf}\")\n",
    "#print(f\"Integral poly: {I_poly}\")\n",
    "\n",
    "IU = np.vstack((I_rbf, I_poly))  # Vector of Integrals\n",
    "\n",
    "#print(f\" Vector of Integrals: {IU}\")\n",
    "\n",
    "\n",
    "# Computing the RBIM quadrature weights\n",
    "WI = np.dot(np.linalg.inv(AU), IU)  \n",
    "\n",
    "WInt = WI[0:NN];\n",
    "\n",
    "\n"
   ]
  },
  {
   "cell_type": "markdown",
   "metadata": {},
   "source": [
    "ESTIMATED ABSOLUTE ERROR"
   ]
  },
  {
   "cell_type": "code",
   "execution_count": 22,
   "metadata": {},
   "outputs": [
    {
     "name": "stdout",
     "output_type": "stream",
     "text": [
      " Reference value: 155.34041818217437\n",
      " RBIM computed value: 155.342624601245\n",
      " The percentage of error obtained with 798 integration points is: 1.42038e-03 %\n"
     ]
    }
   ],
   "source": [
    "# Comparing the reference integral vs. the RBIM integral computed for the test function 3*x1^2 + x2 + x3\n",
    "\n",
    "print(f\" Reference value: {integral}\")\n",
    "\n",
    "x1 = Qpoints[:, 0]\n",
    "x2 = Qpoints[:, 1]\n",
    "x3 = Qpoints[:, 2]\n",
    "\n",
    "f_test = 3 * x1**2 + x2 + x3  # Test function\n",
    "\n",
    "I_quad = np.dot(WInt.T, f_test)\n",
    "I_quad = I_quad[0]\n",
    "\n",
    "print(f\" RBIM computed value: {I_quad}\")\n",
    "\n",
    "error =np.abs( 100 * (integral - I_quad) / integral)\n",
    "error=format(error,\"0.5e\")\n",
    "print(f\" The percentage of error obtained with {NN} integration points is: {error} %\")\n",
    "\n",
    "np.set_printoptions(edgeitems=3, infstr='inf', linewidth=75, nanstr='nan', precision=8, suppress=False, threshold=1000, formatter=None)\n"
   ]
  },
  {
   "cell_type": "markdown",
   "metadata": {},
   "source": [
    "SAVING THE RBIM QUADRATURE"
   ]
  },
  {
   "cell_type": "code",
   "execution_count": 23,
   "metadata": {},
   "outputs": [],
   "source": [
    "Quad=np.hstack([WInt, Qpoints])\n",
    "np.savetxt(\"Quad_RBIM.txt\", Quad, fmt='%f', delimiter=' ')"
   ]
  }
 ],
 "metadata": {
  "kernelspec": {
   "display_name": "Python 3",
   "language": "python",
   "name": "python3"
  },
  "language_info": {
   "codemirror_mode": {
    "name": "ipython",
    "version": 3
   },
   "file_extension": ".py",
   "mimetype": "text/x-python",
   "name": "python",
   "nbconvert_exporter": "python",
   "pygments_lexer": "ipython3",
   "version": "3.12.4"
  }
 },
 "nbformat": 4,
 "nbformat_minor": 2
}
